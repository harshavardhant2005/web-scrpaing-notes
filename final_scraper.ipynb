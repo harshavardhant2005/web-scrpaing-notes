{
 "cells": [
  {
   "cell_type": "markdown",
   "id": "12299b52",
   "metadata": {},
   "source": [
    "### combine all features of docuentation of web scrapping\n",
    "step1 : driver main url of housing.com\n",
    "\n",
    "step 2 : i will get list of area in form of list\n",
    "\n",
    "step 3: search for the particular area in housing.com\n",
    "\n",
    "step4 : scrape data from each card by using switch tabs and closing them \n",
    "\n",
    "step 5 : once desired number of data is scraped we are going to return to home page and repeat the process\n",
    "\n"
   ]
  },
  {
   "cell_type": "code",
   "execution_count": 50,
   "id": "1763f27b",
   "metadata": {},
   "outputs": [],
   "source": [
    "from selenium import webdriver\n",
    "from selenium.webdriver.chrome.service import Service\n",
    "from webdriver_manager.chrome import ChromeDriverManager\n",
    "from selenium.webdriver.chrome.options import Options\n",
    "from selenium.webdriver.common.by import By\n",
    "from selenium.webdriver.common.keys import Keys\n",
    "import time \n",
    "import pandas as pd\n",
    "chrome_options = Options()\n",
    "chrome_options.add_experimental_option(\"detach\",True)\n",
    "driver = webdriver.Chrome(service=Service(ChromeDriverManager().install()),options=chrome_options)\n",
    "driver.get(\"https://housing.com/\")"
   ]
  },
  {
   "cell_type": "code",
   "execution_count": 51,
   "id": "b1505e92",
   "metadata": {},
   "outputs": [],
   "source": [
    "chennai_localities = [\n",
    "    \"Adyar, Chennai\",\n",
    "    \"Anna Nagar, Chennai\",\n",
    "    \"T. Nagar, Chennai\",\n",
    "    \"Velachery, Chennai\",\n",
    "    \"Tambaram, Chennai\",\n",
    "    \"Porur, Chennai\",\n",
    "    \"Sholinganallur, Chennai\",\n",
    "    \"Guindy, Chennai\",\n",
    "    \"Kodambakkam, Chennai\",\n",
    "    \"Thiruvanmiyur, Chennai\",\n",
    "    \"Nungambakkam, Chennai\",\n",
    "    \"Mylapore, Chennai\",\n",
    "    \"Perambur, Chennai\",\n",
    "    \"Saidapet, Chennai\",\n",
    "    \"Pallavaram, Chennai\",\n",
    "    \"Ambattur, Chennai\",\n",
    "    \"Kilpauk, Chennai\",\n",
    "    \"Royapettah, Chennai\",\n",
    "    \"Egmore, Chennai\",\n",
    "    \"Besant Nagar, Chennai\",\n",
    "    \"Ashok Nagar, Chennai\",\n",
    "    \"Medavakkam, Chennai\",\n",
    "    \"Chromepet, Chennai\",\n",
    "    \"Manapakkam, Chennai\",\n",
    "    \"Madipakkam, Chennai\"\n",
    "]"
   ]
  },
  {
   "cell_type": "markdown",
   "id": "aae35bcf",
   "metadata": {},
   "source": [
    "### searching each and every locality to get data \n",
    "WE CAN USE BACK METHOD TO GET BACK TO MAIN PAGE"
   ]
  },
  {
   "cell_type": "code",
   "execution_count": null,
   "id": "6a52d86e",
   "metadata": {},
   "outputs": [
    {
     "ename": "WebDriverException",
     "evalue": "Message: target frame detached\n  (failed to check if window was closed: disconnected: Unable to receive message from renderer)\n  (Session info: chrome=137.0.7151.56)\nStacktrace:\n\tGetHandleVerifier [0x0x11ef173+62931]\n\tGetHandleVerifier [0x0x11ef1b4+62996]\n\t(No symbol) [0x0x1000ece]\n\t(No symbol) [0x0xff1870]\n\t(No symbol) [0x0xff09e1]\n\t(No symbol) [0x0x100e7ef]\n\t(No symbol) [0x0x107515c]\n\t(No symbol) [0x0x108f2f9]\n\t(No symbol) [0x0x106e2a6]\n\t(No symbol) [0x0x103d5f0]\n\t(No symbol) [0x0x103e464]\n\tGetHandleVerifier [0x0x1443463+2504899]\n\tGetHandleVerifier [0x0x143e892+2485490]\n\tGetHandleVerifier [0x0x121590a+220522]\n\tGetHandleVerifier [0x0x1206388+157672]\n\tGetHandleVerifier [0x0x120cb6d+184269]\n\tGetHandleVerifier [0x0x11f7158+95672]\n\tGetHandleVerifier [0x0x11f7300+96096]\n\tGetHandleVerifier [0x0x11e21aa+9738]\n\tBaseThreadInitThunk [0x0x76bb5d49+25]\n\tRtlInitializeExceptionChain [0x0x77ddd09b+107]\n\tRtlGetAppContainerNamedObjectPath [0x0x77ddd021+561]\n",
     "output_type": "error",
     "traceback": [
      "\u001b[31m---------------------------------------------------------------------------\u001b[39m",
      "\u001b[31mWebDriverException\u001b[39m                        Traceback (most recent call last)",
      "\u001b[36mCell\u001b[39m\u001b[36m \u001b[39m\u001b[32mIn[52]\u001b[39m\u001b[32m, line 28\u001b[39m\n\u001b[32m     26\u001b[39m search_bar.send_keys(Keys.RETURN)\n\u001b[32m     27\u001b[39m time.sleep(\u001b[32m3\u001b[39m)\n\u001b[32m---> \u001b[39m\u001b[32m28\u001b[39m property_filter = \u001b[43mdriver\u001b[49m\u001b[43m.\u001b[49m\u001b[43mfind_element\u001b[49m\u001b[43m(\u001b[49m\u001b[33;43m\"\u001b[39;49m\u001b[33;43mxpath\u001b[39;49m\u001b[33;43m\"\u001b[39;49m\u001b[43m,\u001b[49m\u001b[33;43m\"\u001b[39;49m\u001b[33;43m/html/body/div[1]/div[1]/div[3]/div[1]/div/div[1]\u001b[39;49m\u001b[33;43m\"\u001b[39;49m\u001b[43m)\u001b[49m\n\u001b[32m     29\u001b[39m property_filter.click()\n\u001b[32m     30\u001b[39m \u001b[38;5;28;01mtry\u001b[39;00m:\n",
      "\u001b[36mFile \u001b[39m\u001b[32me:\\Web scrape from housing.com\\env\\Lib\\site-packages\\selenium\\webdriver\\remote\\webdriver.py:914\u001b[39m, in \u001b[36mWebDriver.find_element\u001b[39m\u001b[34m(self, by, value)\u001b[39m\n\u001b[32m    911\u001b[39m         \u001b[38;5;28;01mraise\u001b[39;00m NoSuchElementException(\u001b[33mf\u001b[39m\u001b[33m\"\u001b[39m\u001b[33mCannot locate relative element with: \u001b[39m\u001b[38;5;132;01m{\u001b[39;00mby.root\u001b[38;5;132;01m}\u001b[39;00m\u001b[33m\"\u001b[39m)\n\u001b[32m    912\u001b[39m     \u001b[38;5;28;01mreturn\u001b[39;00m elements[\u001b[32m0\u001b[39m]\n\u001b[32m--> \u001b[39m\u001b[32m914\u001b[39m \u001b[38;5;28;01mreturn\u001b[39;00m \u001b[38;5;28;43mself\u001b[39;49m\u001b[43m.\u001b[49m\u001b[43mexecute\u001b[49m\u001b[43m(\u001b[49m\u001b[43mCommand\u001b[49m\u001b[43m.\u001b[49m\u001b[43mFIND_ELEMENT\u001b[49m\u001b[43m,\u001b[49m\u001b[43m \u001b[49m\u001b[43m{\u001b[49m\u001b[33;43m\"\u001b[39;49m\u001b[33;43musing\u001b[39;49m\u001b[33;43m\"\u001b[39;49m\u001b[43m:\u001b[49m\u001b[43m \u001b[49m\u001b[43mby\u001b[49m\u001b[43m,\u001b[49m\u001b[43m \u001b[49m\u001b[33;43m\"\u001b[39;49m\u001b[33;43mvalue\u001b[39;49m\u001b[33;43m\"\u001b[39;49m\u001b[43m:\u001b[49m\u001b[43m \u001b[49m\u001b[43mvalue\u001b[49m\u001b[43m}\u001b[49m\u001b[43m)\u001b[49m[\u001b[33m\"\u001b[39m\u001b[33mvalue\u001b[39m\u001b[33m\"\u001b[39m]\n",
      "\u001b[36mFile \u001b[39m\u001b[32me:\\Web scrape from housing.com\\env\\Lib\\site-packages\\selenium\\webdriver\\remote\\webdriver.py:447\u001b[39m, in \u001b[36mWebDriver.execute\u001b[39m\u001b[34m(self, driver_command, params)\u001b[39m\n\u001b[32m    445\u001b[39m response = \u001b[38;5;28mself\u001b[39m.command_executor.execute(driver_command, params)\n\u001b[32m    446\u001b[39m \u001b[38;5;28;01mif\u001b[39;00m response:\n\u001b[32m--> \u001b[39m\u001b[32m447\u001b[39m     \u001b[38;5;28;43mself\u001b[39;49m\u001b[43m.\u001b[49m\u001b[43merror_handler\u001b[49m\u001b[43m.\u001b[49m\u001b[43mcheck_response\u001b[49m\u001b[43m(\u001b[49m\u001b[43mresponse\u001b[49m\u001b[43m)\u001b[49m\n\u001b[32m    448\u001b[39m     response[\u001b[33m\"\u001b[39m\u001b[33mvalue\u001b[39m\u001b[33m\"\u001b[39m] = \u001b[38;5;28mself\u001b[39m._unwrap_value(response.get(\u001b[33m\"\u001b[39m\u001b[33mvalue\u001b[39m\u001b[33m\"\u001b[39m, \u001b[38;5;28;01mNone\u001b[39;00m))\n\u001b[32m    449\u001b[39m     \u001b[38;5;28;01mreturn\u001b[39;00m response\n",
      "\u001b[36mFile \u001b[39m\u001b[32me:\\Web scrape from housing.com\\env\\Lib\\site-packages\\selenium\\webdriver\\remote\\errorhandler.py:232\u001b[39m, in \u001b[36mErrorHandler.check_response\u001b[39m\u001b[34m(self, response)\u001b[39m\n\u001b[32m    230\u001b[39m         alert_text = value[\u001b[33m\"\u001b[39m\u001b[33malert\u001b[39m\u001b[33m\"\u001b[39m].get(\u001b[33m\"\u001b[39m\u001b[33mtext\u001b[39m\u001b[33m\"\u001b[39m)\n\u001b[32m    231\u001b[39m     \u001b[38;5;28;01mraise\u001b[39;00m exception_class(message, screen, stacktrace, alert_text)  \u001b[38;5;66;03m# type: ignore[call-arg]  # mypy is not smart enough here\u001b[39;00m\n\u001b[32m--> \u001b[39m\u001b[32m232\u001b[39m \u001b[38;5;28;01mraise\u001b[39;00m exception_class(message, screen, stacktrace)\n",
      "\u001b[31mWebDriverException\u001b[39m: Message: target frame detached\n  (failed to check if window was closed: disconnected: Unable to receive message from renderer)\n  (Session info: chrome=137.0.7151.56)\nStacktrace:\n\tGetHandleVerifier [0x0x11ef173+62931]\n\tGetHandleVerifier [0x0x11ef1b4+62996]\n\t(No symbol) [0x0x1000ece]\n\t(No symbol) [0x0xff1870]\n\t(No symbol) [0x0xff09e1]\n\t(No symbol) [0x0x100e7ef]\n\t(No symbol) [0x0x107515c]\n\t(No symbol) [0x0x108f2f9]\n\t(No symbol) [0x0x106e2a6]\n\t(No symbol) [0x0x103d5f0]\n\t(No symbol) [0x0x103e464]\n\tGetHandleVerifier [0x0x1443463+2504899]\n\tGetHandleVerifier [0x0x143e892+2485490]\n\tGetHandleVerifier [0x0x121590a+220522]\n\tGetHandleVerifier [0x0x1206388+157672]\n\tGetHandleVerifier [0x0x120cb6d+184269]\n\tGetHandleVerifier [0x0x11f7158+95672]\n\tGetHandleVerifier [0x0x11f7300+96096]\n\tGetHandleVerifier [0x0x11e21aa+9738]\n\tBaseThreadInitThunk [0x0x76bb5d49+25]\n\tRtlInitializeExceptionChain [0x0x77ddd09b+107]\n\tRtlGetAppContainerNamedObjectPath [0x0x77ddd021+561]\n"
     ]
    }
   ],
   "source": [
    "data_of_all_property = []\n",
    "\n",
    "def get_text(xpath):\n",
    "    try:\n",
    "        return driver.find_element(By.XPATH, xpath).text\n",
    "    except:\n",
    "        return \"N/A\"\n",
    "\n",
    "def safe_print(label, xpath):\n",
    "    try:\n",
    "        property_data[label] = get_text(xpath)  # ← store in dict\n",
    "    except Exception as e:\n",
    "        property_data[label] = \"N/A\"\n",
    "\n",
    "def get_by_label_th(label):\n",
    "    try:\n",
    "        xpath = f\"//tr[th[contains(text(),'{label}')]]/td/div\"\n",
    "        return driver.find_element(By.XPATH, xpath).text\n",
    "    except:\n",
    "        return \"N/A\"\n",
    "\n",
    "for location in chennai_localities:\n",
    "    search_bar = driver.find_element(\"xpath\",'/html/body/div[1]/div[1]/div[4]/div/div/div[1]/div/div[2]/input')\n",
    "    search_bar.send_keys(location)\n",
    "    time.sleep(2)\n",
    "    search_bar.send_keys(Keys.RETURN)\n",
    "    time.sleep(3)\n",
    "    property_filter = driver.find_element(\"xpath\",\"/html/body/div[1]/div[1]/div[3]/div[1]/div/div[1]\")\n",
    "    property_filter.click()\n",
    "    try:\n",
    "        independent_house = driver.find_element(\"xpath\",\"/html/body/div[1]/div[1]/div[3]/div[1]/div/div[1]/div[2]/div/div/div/div[2]/span/a\")\n",
    "        independent_house.click()\n",
    "    except :\n",
    "        print(\"failed\")\n",
    "    # driver url is updated now like https://housing.com/in/buy/chennai/kodungaiyur_west\n",
    "    # we can start fetch data from property cards \n",
    "    for no_of_card in range(1,11):\n",
    "        # entering into url of seprate property\n",
    "        time.sleep(4)\n",
    "        property_page = driver.current_window_handle\n",
    "        try:\n",
    "            property_link = driver.find_element(\"xpath\",f\"/html/body/div[1]/div[1]/div[3]/div[2]/div[1]/div[4]/div[{no_of_card}]/div/article/div[1]/div[2]/div[1]/div[1]/div[1]/a\")\n",
    "        except:\n",
    "            continue\n",
    "        time.sleep(3)\n",
    "        property_link.click()\n",
    "\n",
    "        # keeping track of all tab to ensure smooth transmission\n",
    "        all_tabs_browser = driver.window_handles\n",
    "        #selecting tab that is not main one\n",
    "        property_details_tab = [tab for tab in all_tabs_browser if tab!=property_page][0]\n",
    "        driver.switch_to.window(property_details_tab)\n",
    "\n",
    "        #### ---------------------------------------- actually fetch part ------------------------------------------\n",
    "        property_data={}\n",
    "        property_data[\"Title\"] = get_text(\"/html/body/div[1]/div[1]/div[3]/div[1]/div[1]/div/div[2]/div/div[1]/div[1]/div[1]/h1/div[1]/div\")\n",
    "        property_data[\"Price\"] = get_text(\"/html/body/div[1]/div[1]/div[3]/div[1]/div[1]/div/div[2]/div/div[2]/div[1]/span\")\n",
    "        property_data[\"Area\"] = get_text(\"/html/body/div[1]/div[1]/div[3]/div[1]/div[1]/div/section/div[1]/div[1]/div/div\")\n",
    "        property_data[\"Avg Price\"] = get_text(\"/html/body/div[1]/div[1]/div[3]/div[1]/div[1]/div/section/div[2]/div[1]\")\n",
    "        property_data[\"Facing\"] = get_text(\"/html/body/div[1]/div[1]/div[3]/div[1]/div[1]/div/section/div[4]/div[1]\")\n",
    "        property_data[\"Furnishing\"] = get_text(\"/html/body/div[1]/div[1]/div[3]/div[1]/div[1]/div/section/div[5]/div[1]\")\n",
    "\n",
    "        property_data[\"Bedrooms\"] = get_by_label_th(\"Bedrooms\")\n",
    "        property_data[\"Bathrooms\"] = get_by_label_th(\"Bathrooms\")\n",
    "        property_data[\"Balcony\"] = get_by_label_th(\"Balcony\")\n",
    "\n",
    "        # Handle score containers\n",
    "        containers = driver.find_elements(By.XPATH, \"//div[contains(@class, 'T_featureContainerStyle')]\")\n",
    "        for container in containers:\n",
    "            try:\n",
    "                label = container.find_element(By.TAG_NAME, \"span\").text\n",
    "                score = container.find_element(By.TAG_NAME, \"p\").text\n",
    "                property_data[label] = score\n",
    "            except:\n",
    "                continue\n",
    "        #append the new data\n",
    "        data_of_all_property.append(property_data)\n",
    "        driver.close()\n",
    "        driver.switch_to.window(property_page)\n",
    "    #for bringing the property page to home again\n",
    "    driver.back()\n",
    "    driver.back()\n",
    "driver.quit()\n"
   ]
  },
  {
   "cell_type": "markdown",
   "id": "dabe16d2",
   "metadata": {},
   "source": [
    "## convert it into csv file \n",
    "\n"
   ]
  },
  {
   "cell_type": "code",
   "execution_count": null,
   "id": "1b9bbf01",
   "metadata": {},
   "outputs": [
    {
     "name": "stdout",
     "output_type": "stream",
     "text": [
      "data stored sucessfully\n"
     ]
    }
   ],
   "source": [
    "## convert it into csv file \n",
    "\n",
    "df = pd.DataFrame(data_of_all_property)\n",
    "df.to_csv(\"propert_data.csv\",index=False)\n",
    "print(\"data stored sucessfully\")"
   ]
  }
 ],
 "metadata": {
  "kernelspec": {
   "display_name": "env",
   "language": "python",
   "name": "python3"
  },
  "language_info": {
   "codemirror_mode": {
    "name": "ipython",
    "version": 3
   },
   "file_extension": ".py",
   "mimetype": "text/x-python",
   "name": "python",
   "nbconvert_exporter": "python",
   "pygments_lexer": "ipython3",
   "version": "3.13.2"
  }
 },
 "nbformat": 4,
 "nbformat_minor": 5
}
