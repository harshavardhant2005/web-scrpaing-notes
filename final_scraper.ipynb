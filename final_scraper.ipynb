{
 "cells": [
  {
   "cell_type": "markdown",
   "id": "12299b52",
   "metadata": {},
   "source": [
    "### combine all features of docuentation of web scrapping\n",
    "step1 : driver main url of housing.com\n",
    "\n",
    "step 2 : i will get list of area in form of list\n",
    "\n",
    "step 3: search for the particular area in housing.com\n",
    "\n",
    "step4 : scrape data from each card by using switch tabs and closing them \n",
    "\n",
    "step 5 : once desired number of data is scraped we are going to return to home page and repeat the process\n",
    "\n"
   ]
  },
  {
   "cell_type": "code",
   "execution_count": 9,
   "id": "1763f27b",
   "metadata": {},
   "outputs": [],
   "source": [
    "from selenium import webdriver\n",
    "from selenium.webdriver.chrome.service import Service\n",
    "from webdriver_manager.chrome import ChromeDriverManager\n",
    "from selenium.webdriver.chrome.options import Options\n",
    "from selenium.webdriver.common.by import By\n",
    "from selenium.webdriver.common.keys import Keys\n",
    "import time \n",
    "import pandas as pd\n",
    "chrome_options = Options()\n",
    "chrome_options.add_experimental_option(\"detach\",True)\n",
    "driver = webdriver.Chrome(service=Service(ChromeDriverManager().install()),options=chrome_options)\n",
    "driver.get(\"https://housing.com/\")"
   ]
  },
  {
   "cell_type": "code",
   "execution_count": 10,
   "id": "b1505e92",
   "metadata": {},
   "outputs": [],
   "source": [
    "chennai_localities = [\n",
    "    \"Royapettah, Chennai\",\n",
    "    \"Egmore, Chennai\",\n",
    "    \"Besant Nagar, Chennai\",\n",
    "    \"Ashok Nagar, Chennai\",\n",
    "    \"Medavakkam, Chennai\",\n",
    "    \"Chromepet, Chennai\",\n",
    "    \"Manapakkam, Chennai\",\n",
    "    \"Madipakkam, Chennai\"\n",
    "]"
   ]
  },
  {
   "cell_type": "markdown",
   "id": "aae35bcf",
   "metadata": {},
   "source": [
    "### searching each and every locality to get data \n",
    "WE CAN USE BACK METHOD TO GET BACK TO MAIN PAGE"
   ]
  },
  {
   "cell_type": "code",
   "execution_count": 11,
   "id": "6a52d86e",
   "metadata": {},
   "outputs": [
    {
     "name": "stdout",
     "output_type": "stream",
     "text": [
      "[<selenium.webdriver.remote.webelement.WebElement (session=\"074471e6043d3904877a75385744b945\", element=\"f.4F9CDD8D6C2BC51A1381D8B786A12FB3.d.5D48F5ABC80D19A3EA781F40EE001BBB.e.24611\")>, <selenium.webdriver.remote.webelement.WebElement (session=\"074471e6043d3904877a75385744b945\", element=\"f.4F9CDD8D6C2BC51A1381D8B786A12FB3.d.5D48F5ABC80D19A3EA781F40EE001BBB.e.24711\")>, <selenium.webdriver.remote.webelement.WebElement (session=\"074471e6043d3904877a75385744b945\", element=\"f.4F9CDD8D6C2BC51A1381D8B786A12FB3.d.5D48F5ABC80D19A3EA781F40EE001BBB.e.24786\")>, <selenium.webdriver.remote.webelement.WebElement (session=\"074471e6043d3904877a75385744b945\", element=\"f.4F9CDD8D6C2BC51A1381D8B786A12FB3.d.5D48F5ABC80D19A3EA781F40EE001BBB.e.24866\")>, <selenium.webdriver.remote.webelement.WebElement (session=\"074471e6043d3904877a75385744b945\", element=\"f.4F9CDD8D6C2BC51A1381D8B786A12FB3.d.5D48F5ABC80D19A3EA781F40EE001BBB.e.24918\")>, <selenium.webdriver.remote.webelement.WebElement (session=\"074471e6043d3904877a75385744b945\", element=\"f.4F9CDD8D6C2BC51A1381D8B786A12FB3.d.5D48F5ABC80D19A3EA781F40EE001BBB.e.24971\")>, <selenium.webdriver.remote.webelement.WebElement (session=\"074471e6043d3904877a75385744b945\", element=\"f.4F9CDD8D6C2BC51A1381D8B786A12FB3.d.5D48F5ABC80D19A3EA781F40EE001BBB.e.25023\")>, <selenium.webdriver.remote.webelement.WebElement (session=\"074471e6043d3904877a75385744b945\", element=\"f.4F9CDD8D6C2BC51A1381D8B786A12FB3.d.5D48F5ABC80D19A3EA781F40EE001BBB.e.25116\")>, <selenium.webdriver.remote.webelement.WebElement (session=\"074471e6043d3904877a75385744b945\", element=\"f.4F9CDD8D6C2BC51A1381D8B786A12FB3.d.5D48F5ABC80D19A3EA781F40EE001BBB.e.25199\")>, <selenium.webdriver.remote.webelement.WebElement (session=\"074471e6043d3904877a75385744b945\", element=\"f.4F9CDD8D6C2BC51A1381D8B786A12FB3.d.5D48F5ABC80D19A3EA781F40EE001BBB.e.25297\")>, <selenium.webdriver.remote.webelement.WebElement (session=\"074471e6043d3904877a75385744b945\", element=\"f.4F9CDD8D6C2BC51A1381D8B786A12FB3.d.5D48F5ABC80D19A3EA781F40EE001BBB.e.25390\")>, <selenium.webdriver.remote.webelement.WebElement (session=\"074471e6043d3904877a75385744b945\", element=\"f.4F9CDD8D6C2BC51A1381D8B786A12FB3.d.5D48F5ABC80D19A3EA781F40EE001BBB.e.25465\")>, <selenium.webdriver.remote.webelement.WebElement (session=\"074471e6043d3904877a75385744b945\", element=\"f.4F9CDD8D6C2BC51A1381D8B786A12FB3.d.5D48F5ABC80D19A3EA781F40EE001BBB.e.25549\")>, <selenium.webdriver.remote.webelement.WebElement (session=\"074471e6043d3904877a75385744b945\", element=\"f.4F9CDD8D6C2BC51A1381D8B786A12FB3.d.5D48F5ABC80D19A3EA781F40EE001BBB.e.25632\")>, <selenium.webdriver.remote.webelement.WebElement (session=\"074471e6043d3904877a75385744b945\", element=\"f.4F9CDD8D6C2BC51A1381D8B786A12FB3.d.5D48F5ABC80D19A3EA781F40EE001BBB.e.25703\")>, <selenium.webdriver.remote.webelement.WebElement (session=\"074471e6043d3904877a75385744b945\", element=\"f.4F9CDD8D6C2BC51A1381D8B786A12FB3.d.5D48F5ABC80D19A3EA781F40EE001BBB.e.25777\")>, <selenium.webdriver.remote.webelement.WebElement (session=\"074471e6043d3904877a75385744b945\", element=\"f.4F9CDD8D6C2BC51A1381D8B786A12FB3.d.5D48F5ABC80D19A3EA781F40EE001BBB.e.25836\")>, <selenium.webdriver.remote.webelement.WebElement (session=\"074471e6043d3904877a75385744b945\", element=\"f.4F9CDD8D6C2BC51A1381D8B786A12FB3.d.5D48F5ABC80D19A3EA781F40EE001BBB.e.25914\")>, <selenium.webdriver.remote.webelement.WebElement (session=\"074471e6043d3904877a75385744b945\", element=\"f.4F9CDD8D6C2BC51A1381D8B786A12FB3.d.5D48F5ABC80D19A3EA781F40EE001BBB.e.25988\")>, <selenium.webdriver.remote.webelement.WebElement (session=\"074471e6043d3904877a75385744b945\", element=\"f.4F9CDD8D6C2BC51A1381D8B786A12FB3.d.5D48F5ABC80D19A3EA781F40EE001BBB.e.26045\")>, <selenium.webdriver.remote.webelement.WebElement (session=\"074471e6043d3904877a75385744b945\", element=\"f.4F9CDD8D6C2BC51A1381D8B786A12FB3.d.5D48F5ABC80D19A3EA781F40EE001BBB.e.26102\")>, <selenium.webdriver.remote.webelement.WebElement (session=\"074471e6043d3904877a75385744b945\", element=\"f.4F9CDD8D6C2BC51A1381D8B786A12FB3.d.5D48F5ABC80D19A3EA781F40EE001BBB.e.26161\")>, <selenium.webdriver.remote.webelement.WebElement (session=\"074471e6043d3904877a75385744b945\", element=\"f.4F9CDD8D6C2BC51A1381D8B786A12FB3.d.5D48F5ABC80D19A3EA781F40EE001BBB.e.26255\")>, <selenium.webdriver.remote.webelement.WebElement (session=\"074471e6043d3904877a75385744b945\", element=\"f.4F9CDD8D6C2BC51A1381D8B786A12FB3.d.5D48F5ABC80D19A3EA781F40EE001BBB.e.26352\")>, <selenium.webdriver.remote.webelement.WebElement (session=\"074471e6043d3904877a75385744b945\", element=\"f.4F9CDD8D6C2BC51A1381D8B786A12FB3.d.5D48F5ABC80D19A3EA781F40EE001BBB.e.26409\")>, <selenium.webdriver.remote.webelement.WebElement (session=\"074471e6043d3904877a75385744b945\", element=\"f.4F9CDD8D6C2BC51A1381D8B786A12FB3.d.5D48F5ABC80D19A3EA781F40EE001BBB.e.26482\")>, <selenium.webdriver.remote.webelement.WebElement (session=\"074471e6043d3904877a75385744b945\", element=\"f.4F9CDD8D6C2BC51A1381D8B786A12FB3.d.5D48F5ABC80D19A3EA781F40EE001BBB.e.26575\")>]\n",
      "failed\n",
      "[]\n"
     ]
    }
   ],
   "source": [
    "data_of_all_property = []\n",
    "\n",
    "def get_text(xpath):\n",
    "    try:\n",
    "        return driver.find_element(By.XPATH, xpath).text\n",
    "    except:\n",
    "        return \"N/A\"\n",
    "\n",
    "def safe_print(label, xpath):\n",
    "    try:\n",
    "        property_data[label] = get_text(xpath)  # ← store in dict\n",
    "    except Exception as e:\n",
    "        property_data[label] = \"N/A\"\n",
    "\n",
    "def get_by_label_th(label):\n",
    "    try:\n",
    "        xpath = f\"//tr[th[contains(text(),'{label}')]]/td/div\"\n",
    "        return driver.find_element(By.XPATH, xpath).text\n",
    "    except:\n",
    "        return \"N/A\"\n",
    "\n",
    "for location in chennai_localities:\n",
    "    try:\n",
    "        search_bar = driver.find_element(\"xpath\",'/html/body/div[1]/div[1]/div[4]/div/div/div[1]/div/div[2]/input')\n",
    "        search_bar.send_keys(location)\n",
    "        time.sleep(2)\n",
    "        search_bar.send_keys(Keys.RETURN)\n",
    "        time.sleep(2)\n",
    "        property_filter = driver.find_element(\"xpath\",\"/html/body/div[1]/div[1]/div[3]/div[1]/div/div[1]\")\n",
    "        property_filter.click()\n",
    "        try:\n",
    "            independent_house = driver.find_element(\"xpath\",\"/html/body/div[1]/div[1]/div[3]/div[1]/div/div[1]/div[2]/div/div/div/div[2]/span/a\")\n",
    "            independent_house.click()\n",
    "        except :\n",
    "            print(\"failed\")\n",
    "        # driver url is updated now like https://housing.com/in/buy/chennai/kodungaiyur_west\n",
    "        # we can start fetch data from property cards\n",
    "        time.sleep(4)\n",
    "        cards = driver.find_elements(By.XPATH, \"//div[contains(@class, 'T_topSection')]\")\n",
    "        print(cards)\n",
    "        # Limit to 20 cards if more exist, otherwise take all\n",
    "        max_cards = 7\n",
    "        num_cards_to_process = min(len(cards), max_cards)\n",
    "\n",
    "        for no_of_card in range(num_cards_to_process):\n",
    "            # entering into url of seprate property\n",
    "            time.sleep(4)\n",
    "            property_page = driver.current_window_handle\n",
    "            try:\n",
    "                property_link = driver.find_element(\"xpath\",f\"/html/body/div[1]/div[1]/div[3]/div[2]/div[1]/div[4]/div[{no_of_card}]/div/article/div[1]/div[2]/div[1]/div[1]/div[1]/a\")\n",
    "            except:\n",
    "                continue\n",
    "            time.sleep(3)\n",
    "            property_link.click()\n",
    "\n",
    "            # keeping track of all tab to ensure smooth transmission\n",
    "            all_tabs_browser = driver.window_handles\n",
    "            #selecting tab that is not main one\n",
    "            property_details_tab = [tab for tab in all_tabs_browser if tab!=property_page][0]\n",
    "            driver.switch_to.window(property_details_tab)\n",
    "\n",
    "            #### ---------------------------------------- actually fetch part ------------------------------------------\n",
    "            property_data={}\n",
    "            property_data[\"Title\"] = get_text(\"/html/body/div[1]/div[1]/div[3]/div[1]/div[1]/div/div[2]/div/div[1]/div[1]/div[1]/h1/div[1]/div\")\n",
    "            property_data[\"areaname\"]=get_text(\"/html/body/div[1]/div[1]/div[3]/div[1]/div[1]/div/div[2]/div/div[1]/div[1]/div[1]/h1/div[2]\")\n",
    "            property_data[\"Price\"] = get_text(\"/html/body/div[1]/div[1]/div[3]/div[1]/div[1]/div/div[2]/div/div[2]/div[1]/span\")\n",
    "            property_data[\"Area\"] = get_text(\"/html/body/div[1]/div[1]/div[3]/div[1]/div[1]/div/section/div[1]/div[1]/div/div\")\n",
    "            property_data[\"Avg Price\"] = get_text(\"/html/body/div[1]/div[1]/div[3]/div[1]/div[1]/div/section/div[2]/div[1]\")\n",
    "            property_data[\"Facing\"] = get_text(\"/html/body/div[1]/div[1]/div[3]/div[1]/div[1]/div/section/div[4]/div[1]\")\n",
    "            property_data[\"Furnishing\"] = get_text(\"/html/body/div[1]/div[1]/div[3]/div[1]/div[1]/div/section/div[5]/div[1]\")\n",
    "\n",
    "            property_data[\"Bedrooms\"] = get_by_label_th(\"Bedrooms\")\n",
    "            property_data[\"Bathrooms\"] = get_by_label_th(\"Bathrooms\")\n",
    "            property_data[\"Balcony\"] = get_by_label_th(\"Balcony\")\n",
    "\n",
    "            # Handle score containers\n",
    "            containers = driver.find_elements(By.XPATH, \"//div[contains(@class, 'T_featureContainerStyle')]\")\n",
    "            for container in containers:\n",
    "                try:\n",
    "                    label = container.find_element(By.TAG_NAME, \"span\").text\n",
    "                    score = container.find_element(By.TAG_NAME, \"p\").text\n",
    "                    property_data[label] = score\n",
    "                except:\n",
    "                    continue\n",
    "            #append the new data\n",
    "            data_of_all_property.append(property_data)\n",
    "            driver.close()\n",
    "            driver.switch_to.window(property_page)\n",
    "        #for bringing the property page to home again\n",
    "        driver.back()\n",
    "        driver.back()\n",
    "    except:\n",
    "        continue\n",
    "driver.quit()\n"
   ]
  },
  {
   "cell_type": "markdown",
   "id": "dabe16d2",
   "metadata": {},
   "source": [
    "## convert it into csv file \n",
    "\n"
   ]
  },
  {
   "cell_type": "code",
   "execution_count": 12,
   "id": "1b9bbf01",
   "metadata": {},
   "outputs": [
    {
     "name": "stdout",
     "output_type": "stream",
     "text": [
      "data stored sucessfully\n"
     ]
    }
   ],
   "source": [
    "## convert it into csv file \n",
    "\n",
    "df = pd.DataFrame(data_of_all_property)\n",
    "df.to_csv(\"propert_data2.csv\",mode=\"a\",index=False,header=False)\n",
    "print(\"data stored sucessfully\")"
   ]
  }
 ],
 "metadata": {
  "kernelspec": {
   "display_name": "env",
   "language": "python",
   "name": "python3"
  },
  "language_info": {
   "codemirror_mode": {
    "name": "ipython",
    "version": 3
   },
   "file_extension": ".py",
   "mimetype": "text/x-python",
   "name": "python",
   "nbconvert_exporter": "python",
   "pygments_lexer": "ipython3",
   "version": "3.13.2"
  }
 },
 "nbformat": 4,
 "nbformat_minor": 5
}
